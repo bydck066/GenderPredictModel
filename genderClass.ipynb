{
 "cells": [
  {
   "cell_type": "code",
   "execution_count": 1,
   "metadata": {},
   "outputs": [],
   "source": [
    "import numpy as np\n",
    "import pandas as pd\n",
    "import matplotlib.pyplot as plt\n",
    "import seaborn as sbn"
   ]
  },
  {
   "cell_type": "code",
   "execution_count": 4,
   "metadata": {},
   "outputs": [],
   "source": [
    "dataFrame = pd.read_csv(\"gender_classification_v7.csv\")"
   ]
  },
  {
   "cell_type": "code",
   "execution_count": 27,
   "metadata": {},
   "outputs": [],
   "source": [
    "toBinaryArr = []\n"
   ]
  },
  {
   "cell_type": "code",
   "execution_count": 28,
   "metadata": {},
   "outputs": [],
   "source": [
    "for i in dataFrame[\"gender\"]:\n",
    "    if i == \"Male\":\n",
    "        toBinaryArr.append(1)\n",
    "    else:\n",
    "        toBinaryArr.append(0)"
   ]
  },
  {
   "cell_type": "code",
   "execution_count": 30,
   "metadata": {},
   "outputs": [],
   "source": [
    "toBinaryArr = np.array(toBinaryArr)"
   ]
  },
  {
   "cell_type": "code",
   "execution_count": 33,
   "metadata": {},
   "outputs": [],
   "source": [
    "dataFrame[\"gender\"] = toBinaryArr"
   ]
  },
  {
   "cell_type": "code",
   "execution_count": 34,
   "metadata": {},
   "outputs": [
    {
     "data": {
      "text/html": [
       "<div>\n",
       "<style scoped>\n",
       "    .dataframe tbody tr th:only-of-type {\n",
       "        vertical-align: middle;\n",
       "    }\n",
       "\n",
       "    .dataframe tbody tr th {\n",
       "        vertical-align: top;\n",
       "    }\n",
       "\n",
       "    .dataframe thead th {\n",
       "        text-align: right;\n",
       "    }\n",
       "</style>\n",
       "<table border=\"1\" class=\"dataframe\">\n",
       "  <thead>\n",
       "    <tr style=\"text-align: right;\">\n",
       "      <th></th>\n",
       "      <th>long_hair</th>\n",
       "      <th>forehead_width_cm</th>\n",
       "      <th>forehead_height_cm</th>\n",
       "      <th>nose_wide</th>\n",
       "      <th>nose_long</th>\n",
       "      <th>lips_thin</th>\n",
       "      <th>distance_nose_to_lip_long</th>\n",
       "      <th>gender</th>\n",
       "    </tr>\n",
       "  </thead>\n",
       "  <tbody>\n",
       "    <tr>\n",
       "      <th>0</th>\n",
       "      <td>1</td>\n",
       "      <td>11.8</td>\n",
       "      <td>6.1</td>\n",
       "      <td>1</td>\n",
       "      <td>0</td>\n",
       "      <td>1</td>\n",
       "      <td>1</td>\n",
       "      <td>1</td>\n",
       "    </tr>\n",
       "    <tr>\n",
       "      <th>1</th>\n",
       "      <td>0</td>\n",
       "      <td>14.0</td>\n",
       "      <td>5.4</td>\n",
       "      <td>0</td>\n",
       "      <td>0</td>\n",
       "      <td>1</td>\n",
       "      <td>0</td>\n",
       "      <td>0</td>\n",
       "    </tr>\n",
       "    <tr>\n",
       "      <th>2</th>\n",
       "      <td>0</td>\n",
       "      <td>11.8</td>\n",
       "      <td>6.3</td>\n",
       "      <td>1</td>\n",
       "      <td>1</td>\n",
       "      <td>1</td>\n",
       "      <td>1</td>\n",
       "      <td>1</td>\n",
       "    </tr>\n",
       "    <tr>\n",
       "      <th>3</th>\n",
       "      <td>0</td>\n",
       "      <td>14.4</td>\n",
       "      <td>6.1</td>\n",
       "      <td>0</td>\n",
       "      <td>1</td>\n",
       "      <td>1</td>\n",
       "      <td>1</td>\n",
       "      <td>1</td>\n",
       "    </tr>\n",
       "    <tr>\n",
       "      <th>4</th>\n",
       "      <td>1</td>\n",
       "      <td>13.5</td>\n",
       "      <td>5.9</td>\n",
       "      <td>0</td>\n",
       "      <td>0</td>\n",
       "      <td>0</td>\n",
       "      <td>0</td>\n",
       "      <td>0</td>\n",
       "    </tr>\n",
       "    <tr>\n",
       "      <th>...</th>\n",
       "      <td>...</td>\n",
       "      <td>...</td>\n",
       "      <td>...</td>\n",
       "      <td>...</td>\n",
       "      <td>...</td>\n",
       "      <td>...</td>\n",
       "      <td>...</td>\n",
       "      <td>...</td>\n",
       "    </tr>\n",
       "    <tr>\n",
       "      <th>4996</th>\n",
       "      <td>1</td>\n",
       "      <td>13.6</td>\n",
       "      <td>5.1</td>\n",
       "      <td>0</td>\n",
       "      <td>0</td>\n",
       "      <td>0</td>\n",
       "      <td>0</td>\n",
       "      <td>0</td>\n",
       "    </tr>\n",
       "    <tr>\n",
       "      <th>4997</th>\n",
       "      <td>1</td>\n",
       "      <td>11.9</td>\n",
       "      <td>5.4</td>\n",
       "      <td>0</td>\n",
       "      <td>0</td>\n",
       "      <td>0</td>\n",
       "      <td>0</td>\n",
       "      <td>0</td>\n",
       "    </tr>\n",
       "    <tr>\n",
       "      <th>4998</th>\n",
       "      <td>1</td>\n",
       "      <td>12.9</td>\n",
       "      <td>5.7</td>\n",
       "      <td>0</td>\n",
       "      <td>0</td>\n",
       "      <td>0</td>\n",
       "      <td>0</td>\n",
       "      <td>0</td>\n",
       "    </tr>\n",
       "    <tr>\n",
       "      <th>4999</th>\n",
       "      <td>1</td>\n",
       "      <td>13.2</td>\n",
       "      <td>6.2</td>\n",
       "      <td>0</td>\n",
       "      <td>0</td>\n",
       "      <td>0</td>\n",
       "      <td>0</td>\n",
       "      <td>0</td>\n",
       "    </tr>\n",
       "    <tr>\n",
       "      <th>5000</th>\n",
       "      <td>1</td>\n",
       "      <td>15.4</td>\n",
       "      <td>5.4</td>\n",
       "      <td>1</td>\n",
       "      <td>1</td>\n",
       "      <td>1</td>\n",
       "      <td>1</td>\n",
       "      <td>1</td>\n",
       "    </tr>\n",
       "  </tbody>\n",
       "</table>\n",
       "<p>5001 rows × 8 columns</p>\n",
       "</div>"
      ],
      "text/plain": [
       "      long_hair  forehead_width_cm  forehead_height_cm  nose_wide  nose_long  \\\n",
       "0             1               11.8                 6.1          1          0   \n",
       "1             0               14.0                 5.4          0          0   \n",
       "2             0               11.8                 6.3          1          1   \n",
       "3             0               14.4                 6.1          0          1   \n",
       "4             1               13.5                 5.9          0          0   \n",
       "...         ...                ...                 ...        ...        ...   \n",
       "4996          1               13.6                 5.1          0          0   \n",
       "4997          1               11.9                 5.4          0          0   \n",
       "4998          1               12.9                 5.7          0          0   \n",
       "4999          1               13.2                 6.2          0          0   \n",
       "5000          1               15.4                 5.4          1          1   \n",
       "\n",
       "      lips_thin  distance_nose_to_lip_long  gender  \n",
       "0             1                          1       1  \n",
       "1             1                          0       0  \n",
       "2             1                          1       1  \n",
       "3             1                          1       1  \n",
       "4             0                          0       0  \n",
       "...         ...                        ...     ...  \n",
       "4996          0                          0       0  \n",
       "4997          0                          0       0  \n",
       "4998          0                          0       0  \n",
       "4999          0                          0       0  \n",
       "5000          1                          1       1  \n",
       "\n",
       "[5001 rows x 8 columns]"
      ]
     },
     "execution_count": 34,
     "metadata": {},
     "output_type": "execute_result"
    }
   ],
   "source": [
    "dataFrame"
   ]
  },
  {
   "cell_type": "code",
   "execution_count": 38,
   "metadata": {},
   "outputs": [
    {
     "data": {
      "text/html": [
       "<div>\n",
       "<style scoped>\n",
       "    .dataframe tbody tr th:only-of-type {\n",
       "        vertical-align: middle;\n",
       "    }\n",
       "\n",
       "    .dataframe tbody tr th {\n",
       "        vertical-align: top;\n",
       "    }\n",
       "\n",
       "    .dataframe thead th {\n",
       "        text-align: right;\n",
       "    }\n",
       "</style>\n",
       "<table border=\"1\" class=\"dataframe\">\n",
       "  <thead>\n",
       "    <tr style=\"text-align: right;\">\n",
       "      <th></th>\n",
       "      <th>long_hair</th>\n",
       "      <th>forehead_width_cm</th>\n",
       "      <th>forehead_height_cm</th>\n",
       "      <th>nose_wide</th>\n",
       "      <th>nose_long</th>\n",
       "      <th>lips_thin</th>\n",
       "      <th>distance_nose_to_lip_long</th>\n",
       "      <th>gender</th>\n",
       "    </tr>\n",
       "  </thead>\n",
       "  <tbody>\n",
       "    <tr>\n",
       "      <th>count</th>\n",
       "      <td>5001.000000</td>\n",
       "      <td>5001.000000</td>\n",
       "      <td>5001.000000</td>\n",
       "      <td>5001.000000</td>\n",
       "      <td>5001.000000</td>\n",
       "      <td>5001.000000</td>\n",
       "      <td>5001.000000</td>\n",
       "      <td>5001.00000</td>\n",
       "    </tr>\n",
       "    <tr>\n",
       "      <th>mean</th>\n",
       "      <td>0.869626</td>\n",
       "      <td>13.181484</td>\n",
       "      <td>5.946311</td>\n",
       "      <td>0.493901</td>\n",
       "      <td>0.507898</td>\n",
       "      <td>0.493101</td>\n",
       "      <td>0.498900</td>\n",
       "      <td>0.49990</td>\n",
       "    </tr>\n",
       "    <tr>\n",
       "      <th>std</th>\n",
       "      <td>0.336748</td>\n",
       "      <td>1.107128</td>\n",
       "      <td>0.541268</td>\n",
       "      <td>0.500013</td>\n",
       "      <td>0.499988</td>\n",
       "      <td>0.500002</td>\n",
       "      <td>0.500049</td>\n",
       "      <td>0.50005</td>\n",
       "    </tr>\n",
       "    <tr>\n",
       "      <th>min</th>\n",
       "      <td>0.000000</td>\n",
       "      <td>11.400000</td>\n",
       "      <td>5.100000</td>\n",
       "      <td>0.000000</td>\n",
       "      <td>0.000000</td>\n",
       "      <td>0.000000</td>\n",
       "      <td>0.000000</td>\n",
       "      <td>0.00000</td>\n",
       "    </tr>\n",
       "    <tr>\n",
       "      <th>25%</th>\n",
       "      <td>1.000000</td>\n",
       "      <td>12.200000</td>\n",
       "      <td>5.500000</td>\n",
       "      <td>0.000000</td>\n",
       "      <td>0.000000</td>\n",
       "      <td>0.000000</td>\n",
       "      <td>0.000000</td>\n",
       "      <td>0.00000</td>\n",
       "    </tr>\n",
       "    <tr>\n",
       "      <th>50%</th>\n",
       "      <td>1.000000</td>\n",
       "      <td>13.100000</td>\n",
       "      <td>5.900000</td>\n",
       "      <td>0.000000</td>\n",
       "      <td>1.000000</td>\n",
       "      <td>0.000000</td>\n",
       "      <td>0.000000</td>\n",
       "      <td>0.00000</td>\n",
       "    </tr>\n",
       "    <tr>\n",
       "      <th>75%</th>\n",
       "      <td>1.000000</td>\n",
       "      <td>14.000000</td>\n",
       "      <td>6.400000</td>\n",
       "      <td>1.000000</td>\n",
       "      <td>1.000000</td>\n",
       "      <td>1.000000</td>\n",
       "      <td>1.000000</td>\n",
       "      <td>1.00000</td>\n",
       "    </tr>\n",
       "    <tr>\n",
       "      <th>max</th>\n",
       "      <td>1.000000</td>\n",
       "      <td>15.500000</td>\n",
       "      <td>7.100000</td>\n",
       "      <td>1.000000</td>\n",
       "      <td>1.000000</td>\n",
       "      <td>1.000000</td>\n",
       "      <td>1.000000</td>\n",
       "      <td>1.00000</td>\n",
       "    </tr>\n",
       "  </tbody>\n",
       "</table>\n",
       "</div>"
      ],
      "text/plain": [
       "         long_hair  forehead_width_cm  forehead_height_cm    nose_wide  \\\n",
       "count  5001.000000        5001.000000         5001.000000  5001.000000   \n",
       "mean      0.869626          13.181484            5.946311     0.493901   \n",
       "std       0.336748           1.107128            0.541268     0.500013   \n",
       "min       0.000000          11.400000            5.100000     0.000000   \n",
       "25%       1.000000          12.200000            5.500000     0.000000   \n",
       "50%       1.000000          13.100000            5.900000     0.000000   \n",
       "75%       1.000000          14.000000            6.400000     1.000000   \n",
       "max       1.000000          15.500000            7.100000     1.000000   \n",
       "\n",
       "         nose_long    lips_thin  distance_nose_to_lip_long      gender  \n",
       "count  5001.000000  5001.000000                5001.000000  5001.00000  \n",
       "mean      0.507898     0.493101                   0.498900     0.49990  \n",
       "std       0.499988     0.500002                   0.500049     0.50005  \n",
       "min       0.000000     0.000000                   0.000000     0.00000  \n",
       "25%       0.000000     0.000000                   0.000000     0.00000  \n",
       "50%       1.000000     0.000000                   0.000000     0.00000  \n",
       "75%       1.000000     1.000000                   1.000000     1.00000  \n",
       "max       1.000000     1.000000                   1.000000     1.00000  "
      ]
     },
     "execution_count": 38,
     "metadata": {},
     "output_type": "execute_result"
    }
   ],
   "source": [
    "dataFrame.describe()"
   ]
  },
  {
   "cell_type": "code",
   "execution_count": 53,
   "metadata": {},
   "outputs": [
    {
     "data": {
      "text/plain": [
       "<AxesSubplot:>"
      ]
     },
     "execution_count": 53,
     "metadata": {},
     "output_type": "execute_result"
    },
    {
     "data": {
      "image/png": "[encoded data removed]",
      "text/plain": [
       "<Figure size 432x288 with 1 Axes>"
      ]
     },
     "metadata": {
      "needs_background": "light"
     },
     "output_type": "display_data"
    }
   ],
   "source": [
    "dataFrame.corr()[\"gender\"].sort_values().plot(kind=\"bar\")"
   ]
  },
  {
   "cell_type": "code",
   "execution_count": 54,
   "metadata": {},
   "outputs": [],
   "source": [
    "y = dataFrame[\"gender\"].values\n",
    "x = dataFrame.drop(\"gender\",axis=1).values"
   ]
  },
  {
   "cell_type": "code",
   "execution_count": 60,
   "metadata": {},
   "outputs": [],
   "source": [
    "from sklearn.model_selection import train_test_split\n",
    "from sklearn.preprocessing import MinMaxScaler"
   ]
  },
  {
   "cell_type": "code",
   "execution_count": 61,
   "metadata": {},
   "outputs": [],
   "source": [
    "x_train, x_test, y_train, y_test = train_test_split(x,y,test_size=0.33,random_state=45)"
   ]
  },
  {
   "cell_type": "code",
   "execution_count": 62,
   "metadata": {},
   "outputs": [],
   "source": [
    "scaler = MinMaxScaler()"
   ]
  },
  {
   "cell_type": "code",
   "execution_count": 63,
   "metadata": {},
   "outputs": [
    {
     "data": {
      "text/plain": [
       "MinMaxScaler()"
      ]
     },
     "execution_count": 63,
     "metadata": {},
     "output_type": "execute_result"
    }
   ],
   "source": [
    "scaler.fit(x_train)"
   ]
  },
  {
   "cell_type": "code",
   "execution_count": 64,
   "metadata": {},
   "outputs": [],
   "source": [
    "x_train = scaler.transform(x_train)\n",
    "x_test = scaler.transform(x_test)"
   ]
  },
  {
   "cell_type": "code",
   "execution_count": 66,
   "metadata": {},
   "outputs": [],
   "source": [
    "from tensorflow.keras.models import Sequential\n",
    "from tensorflow.keras.layers import Dense,Dropout,Activation\n",
    "from tensorflow.keras.callbacks import EarlyStopping"
   ]
  },
  {
   "cell_type": "code",
   "execution_count": 95,
   "metadata": {},
   "outputs": [],
   "source": [
    "model = Sequential()"
   ]
  },
  {
   "cell_type": "code",
   "execution_count": 96,
   "metadata": {},
   "outputs": [],
   "source": [
    "model.add(Dense(units=11,activation=\"relu\"))\n",
    "model.add(Dropout(0.4))\n",
    "model.add(Dense(units=5,activation=\"relu\"))\n",
    "model.add(Dropout(0.4))\n",
    "model.add(Dense(units=5,activation=\"relu\"))\n",
    "model.add(Dropout(0.4))\n",
    "model.add(Dense(units=5,activation=\"relu\"))\n",
    "model.add(Dropout(0.4))\n",
    "model.add(Dense(units=1,activation=\"sigmoid\"))"
   ]
  },
  {
   "cell_type": "code",
   "execution_count": 97,
   "metadata": {},
   "outputs": [],
   "source": [
    "model.compile(loss=\"binary_crossentropy\",optimizer=\"adam\")"
   ]
  },
  {
   "cell_type": "code",
   "execution_count": 98,
   "metadata": {},
   "outputs": [],
   "source": [
    "earlyStop = EarlyStopping(monitor=\"val_loss\",mode=\"min\",verbose=1,patience=25)"
   ]
  },
  {
   "cell_type": "code",
   "execution_count": 99,
   "metadata": {},
   "outputs": [
    {
     "name": "stdout",
     "output_type": "stream",
     "text": [
      "Epoch 1/500\n",
      "105/105 [==============================] - 0s 2ms/step - loss: 0.6947 - val_loss: 0.6904\n",
      "Epoch 2/500\n",
      "105/105 [==============================] - 0s 1ms/step - loss: 0.6653 - val_loss: 0.6285\n",
      "Epoch 3/500\n",
      "105/105 [==============================] - 0s 1ms/step - loss: 0.6266 - val_loss: 0.5025\n",
      "Epoch 4/500\n",
      "105/105 [==============================] - 0s 1ms/step - loss: 0.5966 - val_loss: 0.4395\n",
      "Epoch 5/500\n",
      "105/105 [==============================] - 0s 1ms/step - loss: 0.5681 - val_loss: 0.3876\n",
      "Epoch 6/500\n",
      "105/105 [==============================] - 0s 903us/step - loss: 0.5531 - val_loss: 0.3330\n",
      "Epoch 7/500\n",
      "105/105 [==============================] - 0s 811us/step - loss: 0.5109 - val_loss: 0.2856\n",
      "Epoch 8/500\n",
      "105/105 [==============================] - 0s 790us/step - loss: 0.5086 - val_loss: 0.2704\n",
      "Epoch 9/500\n",
      "105/105 [==============================] - 0s 830us/step - loss: 0.4816 - val_loss: 0.2412\n",
      "Epoch 10/500\n",
      "105/105 [==============================] - 0s 852us/step - loss: 0.4699 - val_loss: 0.2234\n",
      "Epoch 11/500\n",
      "105/105 [==============================] - 0s 937us/step - loss: 0.4492 - val_loss: 0.1972\n",
      "Epoch 12/500\n",
      "105/105 [==============================] - 0s 802us/step - loss: 0.4494 - val_loss: 0.1909\n",
      "Epoch 13/500\n",
      "105/105 [==============================] - 0s 817us/step - loss: 0.4162 - val_loss: 0.1721\n",
      "Epoch 14/500\n",
      "105/105 [==============================] - 0s 870us/step - loss: 0.4225 - val_loss: 0.1767\n",
      "Epoch 15/500\n",
      "105/105 [==============================] - 0s 1ms/step - loss: 0.4057 - val_loss: 0.1666\n",
      "Epoch 16/500\n",
      "105/105 [==============================] - 0s 745us/step - loss: 0.4057 - val_loss: 0.1660\n",
      "Epoch 17/500\n",
      "105/105 [==============================] - 0s 802us/step - loss: 0.3923 - val_loss: 0.1619\n",
      "Epoch 18/500\n",
      "105/105 [==============================] - 0s 766us/step - loss: 0.4010 - val_loss: 0.1533\n",
      "Epoch 19/500\n",
      "105/105 [==============================] - 0s 752us/step - loss: 0.3779 - val_loss: 0.1461\n",
      "Epoch 20/500\n",
      "105/105 [==============================] - 0s 947us/step - loss: 0.3722 - val_loss: 0.1410\n",
      "Epoch 21/500\n",
      "105/105 [==============================] - 0s 849us/step - loss: 0.3960 - val_loss: 0.1422\n",
      "Epoch 22/500\n",
      "105/105 [==============================] - 0s 894us/step - loss: 0.3590 - val_loss: 0.1432\n",
      "Epoch 23/500\n",
      "105/105 [==============================] - 0s 842us/step - loss: 0.3689 - val_loss: 0.1403\n",
      "Epoch 24/500\n",
      "105/105 [==============================] - 0s 766us/step - loss: 0.3482 - val_loss: 0.1385\n",
      "Epoch 25/500\n",
      "105/105 [==============================] - 0s 784us/step - loss: 0.3538 - val_loss: 0.1361\n",
      "Epoch 26/500\n",
      "105/105 [==============================] - 0s 754us/step - loss: 0.3546 - val_loss: 0.1349\n",
      "Epoch 27/500\n",
      "105/105 [==============================] - 0s 859us/step - loss: 0.3492 - val_loss: 0.1364\n",
      "Epoch 28/500\n",
      "105/105 [==============================] - 0s 838us/step - loss: 0.3417 - val_loss: 0.1361\n",
      "Epoch 29/500\n",
      "105/105 [==============================] - 0s 836us/step - loss: 0.3639 - val_loss: 0.1306\n",
      "Epoch 30/500\n",
      "105/105 [==============================] - 0s 826us/step - loss: 0.3583 - val_loss: 0.1321\n",
      "Epoch 31/500\n",
      "105/105 [==============================] - 0s 770us/step - loss: 0.3508 - val_loss: 0.1306\n",
      "Epoch 32/500\n",
      "105/105 [==============================] - 0s 862us/step - loss: 0.3438 - val_loss: 0.1312\n",
      "Epoch 33/500\n",
      "105/105 [==============================] - 0s 800us/step - loss: 0.3396 - val_loss: 0.1306\n",
      "Epoch 34/500\n",
      "105/105 [==============================] - 0s 1ms/step - loss: 0.3549 - val_loss: 0.1260\n",
      "Epoch 35/500\n",
      "105/105 [==============================] - 0s 782us/step - loss: 0.3437 - val_loss: 0.1259\n",
      "Epoch 36/500\n",
      "105/105 [==============================] - 0s 781us/step - loss: 0.3499 - val_loss: 0.1239\n",
      "Epoch 37/500\n",
      "105/105 [==============================] - 0s 773us/step - loss: 0.3451 - val_loss: 0.1229\n",
      "Epoch 38/500\n",
      "105/105 [==============================] - 0s 763us/step - loss: 0.3465 - val_loss: 0.1210\n",
      "Epoch 39/500\n",
      "105/105 [==============================] - 0s 797us/step - loss: 0.3590 - val_loss: 0.1197\n",
      "Epoch 40/500\n",
      "105/105 [==============================] - 0s 808us/step - loss: 0.3524 - val_loss: 0.1179\n",
      "Epoch 41/500\n",
      "105/105 [==============================] - 0s 779us/step - loss: 0.3400 - val_loss: 0.1197\n",
      "Epoch 42/500\n",
      "105/105 [==============================] - 0s 772us/step - loss: 0.3406 - val_loss: 0.1244\n",
      "Epoch 43/500\n",
      "105/105 [==============================] - 0s 781us/step - loss: 0.3606 - val_loss: 0.1234\n",
      "Epoch 44/500\n",
      "105/105 [==============================] - 0s 777us/step - loss: 0.3522 - val_loss: 0.1224\n",
      "Epoch 45/500\n",
      "105/105 [==============================] - 0s 781us/step - loss: 0.3317 - val_loss: 0.1238\n",
      "Epoch 46/500\n",
      "105/105 [==============================] - 0s 753us/step - loss: 0.3496 - val_loss: 0.1206\n",
      "Epoch 47/500\n",
      "105/105 [==============================] - 0s 784us/step - loss: 0.3372 - val_loss: 0.1219\n",
      "Epoch 48/500\n",
      "105/105 [==============================] - 0s 759us/step - loss: 0.3297 - val_loss: 0.1193\n",
      "Epoch 49/500\n",
      "105/105 [==============================] - 0s 805us/step - loss: 0.3410 - val_loss: 0.1145\n",
      "Epoch 50/500\n",
      "105/105 [==============================] - 0s 772us/step - loss: 0.3363 - val_loss: 0.1158\n",
      "Epoch 51/500\n",
      "105/105 [==============================] - 0s 779us/step - loss: 0.3408 - val_loss: 0.1141\n",
      "Epoch 52/500\n",
      "105/105 [==============================] - 0s 796us/step - loss: 0.3179 - val_loss: 0.1153\n",
      "Epoch 53/500\n",
      "105/105 [==============================] - 0s 775us/step - loss: 0.3369 - val_loss: 0.1125\n",
      "Epoch 54/500\n",
      "105/105 [==============================] - 0s 773us/step - loss: 0.3421 - val_loss: 0.1110\n",
      "Epoch 55/500\n",
      "105/105 [==============================] - 0s 768us/step - loss: 0.3403 - val_loss: 0.1083\n",
      "Epoch 56/500\n",
      "105/105 [==============================] - 0s 761us/step - loss: 0.3287 - val_loss: 0.1118\n",
      "Epoch 57/500\n",
      "105/105 [==============================] - 0s 761us/step - loss: 0.3373 - val_loss: 0.1109\n",
      "Epoch 58/500\n",
      "105/105 [==============================] - 0s 775us/step - loss: 0.3444 - val_loss: 0.1092\n",
      "Epoch 59/500\n",
      "105/105 [==============================] - 0s 787us/step - loss: 0.3290 - val_loss: 0.1081\n",
      "Epoch 60/500\n",
      "105/105 [==============================] - 0s 742us/step - loss: 0.3477 - val_loss: 0.1087\n",
      "Epoch 61/500\n",
      "105/105 [==============================] - 0s 756us/step - loss: 0.3305 - val_loss: 0.1090\n",
      "Epoch 62/500\n",
      "105/105 [==============================] - 0s 806us/step - loss: 0.3272 - val_loss: 0.1081\n",
      "Epoch 63/500\n",
      "105/105 [==============================] - 0s 769us/step - loss: 0.3283 - val_loss: 0.1108\n",
      "Epoch 64/500\n",
      "105/105 [==============================] - 0s 763us/step - loss: 0.3301 - val_loss: 0.1064\n",
      "Epoch 65/500\n",
      "105/105 [==============================] - 0s 784us/step - loss: 0.3205 - val_loss: 0.1077\n",
      "Epoch 66/500\n",
      "105/105 [==============================] - 0s 761us/step - loss: 0.3299 - val_loss: 0.1112\n",
      "Epoch 67/500\n",
      "105/105 [==============================] - 0s 759us/step - loss: 0.3163 - val_loss: 0.1121\n",
      "Epoch 68/500\n",
      "105/105 [==============================] - 0s 748us/step - loss: 0.3337 - val_loss: 0.1088\n",
      "Epoch 69/500\n",
      "105/105 [==============================] - 0s 746us/step - loss: 0.3088 - val_loss: 0.1113\n",
      "Epoch 70/500\n",
      "105/105 [==============================] - 0s 731us/step - loss: 0.3152 - val_loss: 0.1101\n",
      "Epoch 71/500\n",
      "105/105 [==============================] - 0s 757us/step - loss: 0.3234 - val_loss: 0.1081\n",
      "Epoch 72/500\n",
      "105/105 [==============================] - 0s 750us/step - loss: 0.3270 - val_loss: 0.1059\n",
      "Epoch 73/500\n",
      "105/105 [==============================] - 0s 729us/step - loss: 0.3195 - val_loss: 0.1103\n",
      "Epoch 74/500\n",
      "105/105 [==============================] - 0s 773us/step - loss: 0.3204 - val_loss: 0.1036\n",
      "Epoch 75/500\n",
      "105/105 [==============================] - 0s 758us/step - loss: 0.3204 - val_loss: 0.1063\n",
      "Epoch 76/500\n",
      "105/105 [==============================] - 0s 778us/step - loss: 0.3375 - val_loss: 0.1076\n",
      "Epoch 77/500\n",
      "105/105 [==============================] - 0s 780us/step - loss: 0.3265 - val_loss: 0.1061\n",
      "Epoch 78/500\n",
      "105/105 [==============================] - 0s 763us/step - loss: 0.3326 - val_loss: 0.1064\n",
      "Epoch 79/500\n",
      "105/105 [==============================] - 0s 795us/step - loss: 0.3374 - val_loss: 0.1067\n",
      "Epoch 80/500\n",
      "105/105 [==============================] - 0s 770us/step - loss: 0.3304 - val_loss: 0.1049\n",
      "Epoch 81/500\n",
      "105/105 [==============================] - 0s 808us/step - loss: 0.3307 - val_loss: 0.1059\n",
      "Epoch 82/500\n",
      "105/105 [==============================] - 0s 792us/step - loss: 0.3284 - val_loss: 0.1075\n",
      "Epoch 83/500\n",
      "105/105 [==============================] - 0s 779us/step - loss: 0.3144 - val_loss: 0.1099\n",
      "Epoch 84/500\n",
      "105/105 [==============================] - 0s 746us/step - loss: 0.3247 - val_loss: 0.1071\n",
      "Epoch 85/500\n",
      "105/105 [==============================] - 0s 785us/step - loss: 0.3169 - val_loss: 0.1063\n",
      "Epoch 86/500\n",
      "105/105 [==============================] - 0s 755us/step - loss: 0.3242 - val_loss: 0.1103\n",
      "Epoch 87/500\n",
      "105/105 [==============================] - 0s 758us/step - loss: 0.3224 - val_loss: 0.1113\n",
      "Epoch 88/500\n",
      "105/105 [==============================] - 0s 799us/step - loss: 0.3139 - val_loss: 0.1112\n",
      "Epoch 89/500\n",
      "105/105 [==============================] - 0s 753us/step - loss: 0.3221 - val_loss: 0.1093\n",
      "Epoch 90/500\n",
      "105/105 [==============================] - 0s 757us/step - loss: 0.3238 - val_loss: 0.1115\n",
      "Epoch 91/500\n",
      "105/105 [==============================] - 0s 759us/step - loss: 0.3258 - val_loss: 0.1113\n",
      "Epoch 92/500\n",
      "105/105 [==============================] - 0s 789us/step - loss: 0.3385 - val_loss: 0.1105\n",
      "Epoch 93/500\n",
      "105/105 [==============================] - 0s 773us/step - loss: 0.3075 - val_loss: 0.1100\n",
      "Epoch 94/500\n",
      "105/105 [==============================] - 0s 762us/step - loss: 0.3151 - val_loss: 0.1101\n",
      "Epoch 95/500\n",
      "105/105 [==============================] - 0s 782us/step - loss: 0.3124 - val_loss: 0.1107\n",
      "Epoch 96/500\n",
      "105/105 [==============================] - 0s 783us/step - loss: 0.3224 - val_loss: 0.1102\n",
      "Epoch 97/500\n",
      "105/105 [==============================] - 0s 765us/step - loss: 0.3335 - val_loss: 0.1146\n",
      "Epoch 98/500\n",
      "105/105 [==============================] - 0s 780us/step - loss: 0.3315 - val_loss: 0.1112\n",
      "Epoch 99/500\n",
      "105/105 [==============================] - 0s 796us/step - loss: 0.3198 - val_loss: 0.1112\n",
      "Epoch 00099: early stopping\n"
     ]
    },
    {
     "data": {
      "text/plain": [
       "<tensorflow.python.keras.callbacks.History at 0x13fb61e9a48>"
      ]
     },
     "execution_count": 99,
     "metadata": {},
     "output_type": "execute_result"
    }
   ],
   "source": [
    "model.fit(x_train,y_train,epochs=500, validation_data=(x_test,y_test), verbose=1, callbacks=[earlyStop])"
   ]
  },
  {
   "cell_type": "code",
   "execution_count": 100,
   "metadata": {},
   "outputs": [],
   "source": [
    "lossDf = pd.DataFrame(model.history.history)"
   ]
  },
  {
   "cell_type": "code",
   "execution_count": 101,
   "metadata": {},
   "outputs": [
    {
     "data": {
      "text/plain": [
       "<AxesSubplot:>"
      ]
     },
     "execution_count": 101,
     "metadata": {},
     "output_type": "execute_result"
    },
    {
     "data": {
      "image/png": "[encoded data removed]",
      "text/plain": [
       "<Figure size 432x288 with 1 Axes>"
      ]
     },
     "metadata": {
      "needs_background": "light"
     },
     "output_type": "display_data"
    }
   ],
   "source": [
    "lossDf.plot()"
   ]
  },
  {
   "cell_type": "code",
   "execution_count": 102,
   "metadata": {},
   "outputs": [
    {
     "name": "stdout",
     "output_type": "stream",
     "text": [
      "WARNING:tensorflow:From C:\\Users\\doga_\\AppData\\Local\\Temp\\ipykernel_12828\\2074496330.py:1: Sequential.predict_classes (from tensorflow.python.keras.engine.sequential) is deprecated and will be removed after 2021-01-01.\n",
      "Instructions for updating:\n",
      "Please use instead:* `np.argmax(model.predict(x), axis=-1)`,   if your model does multi-class classification   (e.g. if it uses a `softmax` last-layer activation).* `(model.predict(x) > 0.5).astype(\"int32\")`,   if your model does binary classification   (e.g. if it uses a `sigmoid` last-layer activation).\n"
     ]
    }
   ],
   "source": [
    "predicts = model.predict_classes(x_test)"
   ]
  },
  {
   "cell_type": "code",
   "execution_count": 103,
   "metadata": {},
   "outputs": [
    {
     "data": {
      "text/plain": [
       "array([[0],\n",
       "       [1],\n",
       "       [1],\n",
       "       ...,\n",
       "       [1],\n",
       "       [0],\n",
       "       [1]])"
      ]
     },
     "execution_count": 103,
     "metadata": {},
     "output_type": "execute_result"
    }
   ],
   "source": [
    "predicts"
   ]
  },
  {
   "cell_type": "code",
   "execution_count": 104,
   "metadata": {},
   "outputs": [],
   "source": [
    "from sklearn.metrics import classification_report, confusion_matrix"
   ]
  },
  {
   "cell_type": "code",
   "execution_count": 106,
   "metadata": {},
   "outputs": [
    {
     "name": "stdout",
     "output_type": "stream",
     "text": [
      "              precision    recall  f1-score   support\n",
      "\n",
      "           0       0.95      0.96      0.96       813\n",
      "           1       0.96      0.95      0.96       838\n",
      "\n",
      "    accuracy                           0.96      1651\n",
      "   macro avg       0.96      0.96      0.96      1651\n",
      "weighted avg       0.96      0.96      0.96      1651\n",
      "\n"
     ]
    }
   ],
   "source": [
    "print(classification_report(y_test,predicts))"
   ]
  },
  {
   "cell_type": "code",
   "execution_count": 107,
   "metadata": {},
   "outputs": [
    {
     "name": "stdout",
     "output_type": "stream",
     "text": [
      "[[782  31]\n",
      " [ 39 799]]\n"
     ]
    }
   ],
   "source": [
    "print(confusion_matrix(y_test,predicts))"
   ]
  },
  {
   "cell_type": "code",
   "execution_count": 108,
   "metadata": {},
   "outputs": [],
   "source": [
    "model.save(\"genderPredict.h5\")"
   ]
  },
  {
   "cell_type": "code",
   "execution_count": 111,
   "metadata": {},
   "outputs": [
    {
     "data": {
      "text/plain": [
       "long_hair                     0.0\n",
       "forehead_width_cm            11.8\n",
       "forehead_height_cm            6.3\n",
       "nose_wide                     1.0\n",
       "nose_long                     1.0\n",
       "lips_thin                     1.0\n",
       "distance_nose_to_lip_long     1.0\n",
       "gender                        1.0\n",
       "Name: 2, dtype: float64"
      ]
     },
     "execution_count": 111,
     "metadata": {},
     "output_type": "execute_result"
    }
   ],
   "source": [
    "dataFrame.iloc[2]"
   ]
  },
  {
   "cell_type": "code",
   "execution_count": 113,
   "metadata": {},
   "outputs": [],
   "source": [
    "genderFeature = dataFrame.drop(\"gender\",axis=1).iloc[2]"
   ]
  },
  {
   "cell_type": "code",
   "execution_count": 114,
   "metadata": {},
   "outputs": [
    {
     "data": {
      "text/plain": [
       "long_hair                     0.0\n",
       "forehead_width_cm            11.8\n",
       "forehead_height_cm            6.3\n",
       "nose_wide                     1.0\n",
       "nose_long                     1.0\n",
       "lips_thin                     1.0\n",
       "distance_nose_to_lip_long     1.0\n",
       "Name: 2, dtype: float64"
      ]
     },
     "execution_count": 114,
     "metadata": {},
     "output_type": "execute_result"
    }
   ],
   "source": [
    "genderFeature"
   ]
  },
  {
   "cell_type": "code",
   "execution_count": 117,
   "metadata": {},
   "outputs": [],
   "source": [
    "genderFeature = scaler.transform(genderFeature.values.reshape(-1,7))"
   ]
  },
  {
   "cell_type": "code",
   "execution_count": 119,
   "metadata": {},
   "outputs": [
    {
     "data": {
      "text/plain": [
       "array([[1.]], dtype=float32)"
      ]
     },
     "execution_count": 119,
     "metadata": {},
     "output_type": "execute_result"
    }
   ],
   "source": [
    "model.predict(genderFeature)"
   ]
  },
  {
   "cell_type": "code",
   "execution_count": null,
   "metadata": {},
   "outputs": [],
   "source": []
  }
 ],
 "metadata": {
  "interpreter": {
   "hash": "14201b7c83b9c0c25530ae3144837f480708d3b1692ff1ef03e57d3e0a3dad4a"
  },
  "kernelspec": {
   "display_name": "Python 3.7.11 ('test_env')",
   "language": "python",
   "name": "python3"
  },
  "language_info": {
   "codemirror_mode": {
    "name": "ipython",
    "version": 3
   },
   "file_extension": ".py",
   "mimetype": "text/x-python",
   "name": "python",
   "nbconvert_exporter": "python",
   "pygments_lexer": "ipython3",
   "version": "3.7.11"
  },
  "orig_nbformat": 4
 },
 "nbformat": 4,
 "nbformat_minor": 2
}
