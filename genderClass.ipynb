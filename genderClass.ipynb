{
 "cells": [
  {
   "cell_type": "code",
   "execution_count": null,
   "metadata": {},
   "outputs": [],
   "source": []
  }
 ],
 "metadata": {
  "interpreter": {
   "hash": "14201b7c83b9c0c25530ae3144837f480708d3b1692ff1ef03e57d3e0a3dad4a"
  },
  "kernelspec": {
   "display_name": "Python 3.7.11 ('test_env')",
   "language": "python",
   "name": "python3"
  },
  "language_info": {
   "name": "python",
   "version": "3.7.11"
  },
  "orig_nbformat": 4
 },
 "nbformat": 4,
 "nbformat_minor": 2
}
